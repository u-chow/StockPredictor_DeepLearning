{
 "cells": [
  {
   "cell_type": "markdown",
   "metadata": {},
   "source": [
    "# Step 1: Install and Load Packages"
   ]
  },
  {
   "cell_type": "code",
   "execution_count": null,
   "metadata": {
    "vscode": {
     "languageId": "plaintext"
    }
   },
   "outputs": [],
   "source": [
    "!pip install -r requirements.txt\n",
    "\n",
    "import numpy as np\n",
    "import pandas as pd\n",
    "import torch\n",
    "import torch.nn as nn\n",
    "import torch.optim as optim\n",
    "import yfinance as yf\n",
    "from sklearn.preprocessing import MinMaxScaler\n",
    "from sklearn.metrics import mean_squared_error, mean_absolute_error\n",
    "\n",
    "# Set device (use CUDA if available for acceleration)\n",
    "device = torch.device(\"cuda\" if torch.cuda.is_available() else \"cpu\")\n",
    "print(f\"Using {device} device\")"
   ]
  },
  {
   "cell_type": "markdown",
   "metadata": {},
   "source": [
    "# Step 2: Download NVIDIA Stock Data"
   ]
  },
  {
   "cell_type": "code",
   "execution_count": null,
   "metadata": {
    "vscode": {
     "languageId": "plaintext"
    }
   },
   "outputs": [],
   "source": [
    "ticker = \"NVDA\"\n",
    "stock = yf.Ticker(ticker)\n",
    "hist = stock.history(period=\"2y\")  # Past two years of data\n",
    "\n",
    "# Display the first and last few rows of the dataset\n",
    "print(hist.head())\n",
    "print(hist.tail())\n",
    "\n",
    "# Extract relevant market data and keep it in DataFrame format\n",
    "data = hist[['Open', 'High', 'Low', 'Close']].copy()\n",
    "\n",
    "# Compute 10-day Simple Moving Average (SMA)\n",
    "data['SMA_10'] = data['Close'].rolling(window=10).mean()\n",
    "\n",
    "# Compute 10-day Exponential Moving Average (EMA)\n",
    "data['EMA_10'] = data['Close'].ewm(span=10, adjust=False).mean()\n",
    "\n",
    "# Compute Average True Range (ATR)\n",
    "data['ATR'] = (data['High'] - data['Low']).rolling(window=10).mean()\n",
    "\n",
    "# Fill missing values (since technical indicators introduce NaN values)\n",
    "data.bfill(inplace=True)"
   ]
  },
  {
   "cell_type": "markdown",
   "metadata": {},
   "source": [
    "# Step 3: Data Preprocessing (Normalize Close and Technical Indicators Separately)"
   ]
  },
  {
   "cell_type": "code",
   "execution_count": null,
   "metadata": {
    "vscode": {
     "languageId": "plaintext"
    }
   },
   "outputs": [],
   "source": [
    "scaler_price = MinMaxScaler(feature_range=(0, 1))  # Normalize stock prices (Open, High, Low, Close)\n",
    "scaler_others = MinMaxScaler(feature_range=(0, 1))  # Normalize technical indicators (SMA, EMA, ATR)\n",
    "\n",
    "price_columns = ['Open', 'High', 'Low', 'Close']\n",
    "indicator_columns = ['SMA_10', 'EMA_10', 'ATR']\n",
    "\n",
    "# Normalize separately\n",
    "price_scaled = scaler_price.fit_transform(data[price_columns])\n",
    "indicator_scaled = scaler_others.fit_transform(data[indicator_columns])\n",
    "\n",
    "# Combine normalized data\n",
    "data_scaled = np.hstack((price_scaled, indicator_scaled))\n",
    "\n",
    "# Create time series sequences\n",
    "def create_sequences(dataset, look_back=5):\n",
    "    X, Y = [], []\n",
    "    for i in range(len(dataset) - look_back):\n",
    "        X.append(dataset[i:(i + look_back), :])  # Use past look_back days' Open, High, Low, Close\n",
    "        Y.append(dataset[i + look_back, -1])    # Target is next day's Close\n",
    "    return np.array(X), np.array(Y)\n",
    "\n",
    "look_back = 5\n",
    "X, Y = create_sequences(data_scaled, look_back)\n",
    "\n",
    "# Split into training (80%) and testing (20%) sets\n",
    "train_size = int(len(X) * 0.8)\n",
    "X_train, X_test = X[:train_size], X[train_size:]\n",
    "Y_train, Y_test = Y[:train_size], Y[train_size:]\n",
    "\n",
    "# Convert to PyTorch tensors\n",
    "X_train = torch.tensor(X_train, dtype=torch.float32).to(device)\n",
    "Y_train = torch.tensor(Y_train, dtype=torch.float32).to(device)\n",
    "X_test = torch.tensor(X_test, dtype=torch.float32).to(device)\n",
    "Y_test = torch.tensor(Y_test, dtype=torch.float32).to(device)"
   ]
  },
  {
   "cell_type": "markdown",
   "metadata": {},
   "source": [
    "# Step 4: Define LSTM Model"
   ]
  },
  {
   "cell_type": "code",
   "execution_count": null,
   "metadata": {
    "vscode": {
     "languageId": "plaintext"
    }
   },
   "outputs": [],
   "source": [
    "class LSTMPredictor(nn.Module):\n",
    "    def __init__(self, input_size=7, hidden_size=50, num_layers=2):\n",
    "        super(LSTMPredictor, self).__init__()\n",
    "        self.lstm = nn.LSTM(input_size, hidden_size, num_layers, batch_first=True)\n",
    "        self.fc = nn.Linear(hidden_size, 1)\n",
    "\n",
    "    def forward(self, x):\n",
    "        lstm_out, _ = self.lstm(x)\n",
    "        predictions = self.fc(lstm_out[:, -1])  # Take output of last time step\n",
    "        return predictions\n",
    "\n",
    "# Initialize model\n",
    "model = LSTMPredictor().to(device)\n",
    "criterion = nn.MSELoss()\n",
    "optimizer = optim.Adam(model.parameters(), lr=0.001)"
   ]
  },
  {
   "cell_type": "markdown",
   "metadata": {},
   "source": [
    "# Step 5: Train the LSTM Model"
   ]
  },
  {
   "cell_type": "code",
   "execution_count": null,
   "metadata": {
    "vscode": {
     "languageId": "plaintext"
    }
   },
   "outputs": [],
   "source": [
    "num_epochs = 50\n",
    "for epoch in range(num_epochs):\n",
    "    model.train()\n",
    "    optimizer.zero_grad()\n",
    "    output = model(X_train)\n",
    "    loss = criterion(output.squeeze(), Y_train)\n",
    "    loss.backward()\n",
    "    optimizer.step()\n",
    "\n",
    "    if (epoch + 1) % 10 == 0:\n",
    "        print(f\"Epoch [{epoch+1}/{num_epochs}], Loss: {loss.item():.6f}\")"
   ]
  },
  {
   "cell_type": "markdown",
   "metadata": {},
   "source": [
    "# Step 6: Test and Evaluate Model"
   ]
  },
  {
   "cell_type": "code",
   "execution_count": null,
   "metadata": {
    "vscode": {
     "languageId": "plaintext"
    }
   },
   "outputs": [],
   "source": [
    "model.eval()\n",
    "with torch.no_grad():\n",
    "    Y_pred = model(X_test).squeeze().cpu().numpy()\n",
    "    Y_true = Y_test.cpu().numpy()\n",
    "\n",
    "# Restore `Close` prices\n",
    "Y_pred = Y_pred.reshape(-1, 1)\n",
    "Y_true = Y_true.reshape(-1, 1)\n",
    "\n",
    "Y_pred_rescaled = scaler_price.inverse_transform(np.hstack([np.zeros((Y_pred.shape[0], 3)), Y_pred]))[:, -1]\n",
    "Y_true_rescaled = scaler_price.inverse_transform(np.hstack([np.zeros((Y_true.shape[0], 3)), Y_true]))[:, -1]\n",
    "\n",
    "# Compute RMSE and MAE\n",
    "rmse = np.sqrt(mean_squared_error(Y_true_rescaled, Y_pred_rescaled))\n",
    "mae = mean_absolute_error(Y_true_rescaled, Y_pred_rescaled)\n",
    "\n",
    "print(f\"Test RMSE: {rmse:.2f}\")\n",
    "print(f\"Test MAE: {mae:.2f}\")"
   ]
  },
  {
   "cell_type": "markdown",
   "metadata": {},
   "source": [
    "# Step 7: Generate Future 5-Day Predictions"
   ]
  },
  {
   "cell_type": "code",
   "execution_count": null,
   "metadata": {
    "vscode": {
     "languageId": "plaintext"
    }
   },
   "outputs": [],
   "source": [
    "future_predictions = []\n",
    "input_seq = X_test[-1].cpu().numpy()  # Use last test sample as input\n",
    "\n",
    "for _ in range(5):\n",
    "    input_tensor = torch.tensor(input_seq, dtype=torch.float32).unsqueeze(0).to(device)\n",
    "    with torch.no_grad():\n",
    "        next_day = model(input_tensor).item()\n",
    "\n",
    "    # Restore only Close price\n",
    "    next_day_rescaled = scaler_price.inverse_transform(np.hstack([np.zeros((1, 3)), [[next_day]]]))[0, -1]\n",
    "    future_predictions.append(next_day_rescaled)\n",
    "\n",
    "    # Update `input_seq`\n",
    "    input_seq = np.roll(input_seq, -1, axis=0)\n",
    "    input_seq[-1, -1] = next_day  # Update only Close price\n",
    "\n",
    "print(\"Future 5-day predictions (Close prices):\", future_predictions)"
   ]
  },
  {
   "cell_type": "markdown",
   "metadata": {},
   "source": [
    "# Step 8: Save Predictions"
   ]
  },
  {
   "cell_type": "code",
   "execution_count": null,
   "metadata": {
    "vscode": {
     "languageId": "plaintext"
    }
   },
   "outputs": [],
   "source": [
    "with open(\"41147011S.txt\", \"w\") as f:\n",
    "    for price in future_predictions:\n",
    "        f.write(f\"{price:.2f}\\n\")\n",
    "\n",
    "print(\"Predictions saved to 41147011S.txt\")"
   ]
  }
 ],
 "metadata": {
  "language_info": {
   "name": "python"
  }
 },
 "nbformat": 4,
 "nbformat_minor": 2
}
